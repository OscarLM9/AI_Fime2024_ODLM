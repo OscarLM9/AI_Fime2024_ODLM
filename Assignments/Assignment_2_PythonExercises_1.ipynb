{
  "nbformat": 4,
  "nbformat_minor": 0,
  "metadata": {
    "colab": {
      "provenance": []
    },
    "kernelspec": {
      "name": "python3",
      "display_name": "Python 3"
    },
    "language_info": {
      "name": "python"
    }
  },
  "cells": [
    {
      "cell_type": "code",
      "execution_count": null,
      "metadata": {
        "id": "OtQRgLuEeq-A"
      },
      "outputs": [],
      "source": []
    },
    {
      "cell_type": "markdown",
      "source": [
        "# Intorduction\n",
        "\n",
        "This is my first notebook in colab"
      ],
      "metadata": {
        "id": "l4nTq0jOfju7"
      }
    },
    {
      "cell_type": "code",
      "source": [
        "print(\"Hello World\")"
      ],
      "metadata": {
        "colab": {
          "base_uri": "https://localhost:8080/"
        },
        "id": "xZXUFsWbfsCb",
        "outputId": "f8dad0b3-9a48-4c65-c0ed-c6e6b0f77348"
      },
      "execution_count": null,
      "outputs": [
        {
          "output_type": "stream",
          "name": "stdout",
          "text": [
            "Hello World\n"
          ]
        }
      ]
    },
    {
      "cell_type": "markdown",
      "source": [
        "Text Analysis Tool"
      ],
      "metadata": {
        "id": "I8AJyGz0kiaI"
      }
    },
    {
      "cell_type": "code",
      "source": [
        "# Text Analysis Tool\n",
        "import string\n",
        "from collections import Counter\n",
        "\n",
        "def count_words(text):\n",
        "    words = text.split()\n",
        "    return len(words)\n",
        "\n",
        "def count_sentences(text):\n",
        "    sentences = text.split('.')\n",
        "    sentences += text.split('!')\n",
        "    sentences += text.split('?')\n",
        "    return len(sentences) # Assuming that always a sentence ends with '.', '!', or '?'\n",
        "\n",
        "def count_paragraphs(text):\n",
        "    paragraphs = text.split('\\n\\n')\n",
        "    return len(paragraphs) # Assuming that paragraphs are separated by '\\n\\n'(enters)\n",
        "\n",
        "def average_word_length(text):\n",
        "    words = text.split()\n",
        "    word_lengths = [len(word) for word in words]\n",
        "    return sum(word_lengths) / len(word_lengths)\n",
        "\n",
        "def most_common_words(text, n=10):\n",
        "    text = text.translate(str.maketrans('', '', string.punctuation)).lower()\n",
        "    words = text.split()\n",
        "    word_counts = Counter(words)\n",
        "    return word_counts.most_common(n)\n",
        "\n",
        "def main():\n",
        "    user_text = input(\"Enter Text: \")\n",
        "    avg_length = average_word_length(user_text)\n",
        "    print(\"The average lenght of words is:\", avg_length)\n",
        "\n",
        "    num_words = count_words(user_text)\n",
        "    num_sentences = count_sentences(user_text)\n",
        "    num_paragraphs = count_paragraphs(user_text)\n",
        "    avg_word_length = average_word_length(user_text)\n",
        "    common_words = most_common_words(user_text)\n",
        "\n",
        "    print(\"Number of words:\", num_words)\n",
        "    print(\"Number of sentences:\", num_sentences)\n",
        "    print(\"Number of paragraphs:\", num_paragraphs)\n",
        "    print(\"Average word length:\", avg_word_length)\n",
        "    print(\"Most common words:\", common_words)\n",
        "\n",
        "if __name__ == \"__main__\":\n",
        "    main()"
      ],
      "metadata": {
        "colab": {
          "base_uri": "https://localhost:8080/"
        },
        "id": "ftbBwfVlJSA1",
        "outputId": "37ca2696-33d4-4b02-d908-888496f42a43"
      },
      "execution_count": 3,
      "outputs": [
        {
          "output_type": "stream",
          "name": "stdout",
          "text": [
            "Enter Text: Sehr geehrte Damen und Herren, ich interessiere mich für die Stelle. Ich bin 20 Jahre alt und ich habe jetzt meine Ausbildung im Marketing mit 9.5 beendet. Ich habe nur an meinen Praxen arbeiten, aber ich bin bereit für diese Arbeit, weil ich eine sehr gute Arbeit an meinen Praxen gemacht habe, aber ich mochte die Firma meiner Praxis nicht. Ich bin sehr klug, ordentlich, pünktlich, umw, aber ich bin nicht sehr tolerant, weil ich sehr schnell wütend werde. Aus diesen Gründen ist die AArbeit für mich. Ich spreche auch Spanisch, Englisch und ein bisschen Französisch. Ich möchte eine Master in Internationale Besiehungen machen, während ich arbeite und ich denke, dass meine Master Ihnen helfen kann. Mit freundlichen Grüssen Oscar Leal\n",
            "The average lenght of words is: 5.115702479338843\n",
            "Number of words: 121\n",
            "Number of sentences: 11\n",
            "Number of paragraphs: 1\n",
            "Average word length: 5.115702479338843\n",
            "Most common words: [('ich', 14), ('sehr', 5), ('und', 4), ('bin', 4), ('für', 3), ('die', 3), ('habe', 3), ('aber', 3), ('mich', 2), ('meine', 2)]\n"
          ]
        }
      ]
    },
    {
      "cell_type": "markdown",
      "source": [
        "Hangman Game"
      ],
      "metadata": {
        "id": "DcFVKsS5krCK"
      }
    },
    {
      "cell_type": "code",
      "source": [
        "#Hangman Game\n",
        "import random\n",
        "\n",
        "def choose_word():\n",
        "    word_list = [\"Soccer\", \"Cucumber\", \"Germany\", \"Corridos\", \"Beer\", \"Beach\"]\n",
        "    return random.choice(word_list)\n",
        "\n",
        "def display_word(word, guessed_letters):\n",
        "    displayed_word = \"\"\n",
        "    for letter in word:\n",
        "        if letter in guessed_letters:\n",
        "            displayed_word += letter\n",
        "        else:\n",
        "            displayed_word += \"_\"\n",
        "    return displayed_word\n",
        "\n",
        "def hangman():\n",
        "    max_attempts = 6\n",
        "    word = choose_word()\n",
        "    guessed_letters = []\n",
        "    attempts = 0\n",
        "\n",
        "    print(\"Guess the word.\")\n",
        "\n",
        "    while True:\n",
        "        print(\"\\n\" + display_word(word, guessed_letters))\n",
        "        guess = input(\"Guess a letter: \").lower()\n",
        "\n",
        "        if len(guess) != 1 or not guess.isalpha():\n",
        "            print(\"Please enter a single letter.\")\n",
        "            continue\n",
        "\n",
        "        if guess in guessed_letters:\n",
        "            print(\"You've already guessed that letter.\")\n",
        "            continue\n",
        "\n",
        "        guessed_letters.append(guess)\n",
        "\n",
        "        if guess in word:\n",
        "            print(\"Correct!\")\n",
        "        else:\n",
        "            print(\"Incorrect!\")\n",
        "            attempts += 1\n",
        "\n",
        "        if \"_\" not in display_word(word, guessed_letters):\n",
        "            print(\"\\nCongratulations! You guessed the word:\", word)\n",
        "            break\n",
        "\n",
        "        if attempts >= max_attempts:\n",
        "            print(\"\\nSorry, you're out of attempts. The word was:\", word)\n",
        "            break\n",
        "\n",
        "        print(\"Attempts left:\", max_attempts - attempts)\n",
        "\n",
        "    play_again = input(\"\\nDo you want to play again? (yes/no): \").lower()\n",
        "    if play_again == \"yes\":\n",
        "        hangman()\n",
        "    else:\n",
        "        print(\"Thanks for playing!\")\n",
        "\n",
        "if __name__ == \"__main__\":\n",
        "    hangman()"
      ],
      "metadata": {
        "colab": {
          "base_uri": "https://localhost:8080/",
          "height": 1000
        },
        "id": "PVFqCJlGkhn0",
        "outputId": "1e22f013-d80d-481f-86bd-2433b3947c98"
      },
      "execution_count": null,
      "outputs": [
        {
          "output_type": "stream",
          "name": "stdout",
          "text": [
            "Welcome to Hangman!\n",
            "Guess the word.\n",
            "\n",
            "__________\n",
            "Guess a letter: a\n",
            "Correct!\n",
            "Attempts left: 6\n",
            "\n",
            "___a______\n",
            "Guess a letter: s\n",
            "Correct!\n",
            "Attempts left: 6\n",
            "\n",
            "s__a______\n",
            "Guess a letter: strawberry\n",
            "Please enter a single letter.\n",
            "\n",
            "s__a______\n",
            "Guess a letter: t\n",
            "Correct!\n",
            "Attempts left: 6\n",
            "\n",
            "st_a______\n",
            "Guess a letter: r\n",
            "Correct!\n",
            "Attempts left: 6\n",
            "\n",
            "stra___rr_\n",
            "Guess a letter: w\n",
            "Correct!\n",
            "Attempts left: 6\n",
            "\n",
            "straw__rr_\n",
            "Guess a letter: b\n",
            "Correct!\n",
            "Attempts left: 6\n",
            "\n",
            "strawb_rr_\n",
            "Guess a letter: y\n",
            "Correct!\n",
            "Attempts left: 6\n",
            "\n",
            "strawb_rry\n",
            "Guess a letter: e\n",
            "Correct!\n",
            "\n",
            "Congratulations! You guessed the word: strawberry\n"
          ]
        },
        {
          "output_type": "error",
          "ename": "KeyboardInterrupt",
          "evalue": "Interrupted by user",
          "traceback": [
            "\u001b[0;31m---------------------------------------------------------------------------\u001b[0m",
            "\u001b[0;31mKeyboardInterrupt\u001b[0m                         Traceback (most recent call last)",
            "\u001b[0;32m<ipython-input-4-5d3fde4ec95a>\u001b[0m in \u001b[0;36m<cell line: 62>\u001b[0;34m()\u001b[0m\n\u001b[1;32m     61\u001b[0m \u001b[0;34m\u001b[0m\u001b[0m\n\u001b[1;32m     62\u001b[0m \u001b[0;32mif\u001b[0m \u001b[0m__name__\u001b[0m \u001b[0;34m==\u001b[0m \u001b[0;34m\"__main__\"\u001b[0m\u001b[0;34m:\u001b[0m\u001b[0;34m\u001b[0m\u001b[0;34m\u001b[0m\u001b[0m\n\u001b[0;32m---> 63\u001b[0;31m     \u001b[0mhangman\u001b[0m\u001b[0;34m(\u001b[0m\u001b[0;34m)\u001b[0m\u001b[0;34m\u001b[0m\u001b[0;34m\u001b[0m\u001b[0m\n\u001b[0m",
            "\u001b[0;32m<ipython-input-4-5d3fde4ec95a>\u001b[0m in \u001b[0;36mhangman\u001b[0;34m()\u001b[0m\n\u001b[1;32m     54\u001b[0m         \u001b[0mprint\u001b[0m\u001b[0;34m(\u001b[0m\u001b[0;34m\"Attempts left:\"\u001b[0m\u001b[0;34m,\u001b[0m \u001b[0mmax_attempts\u001b[0m \u001b[0;34m-\u001b[0m \u001b[0mattempts\u001b[0m\u001b[0;34m)\u001b[0m\u001b[0;34m\u001b[0m\u001b[0;34m\u001b[0m\u001b[0m\n\u001b[1;32m     55\u001b[0m \u001b[0;34m\u001b[0m\u001b[0m\n\u001b[0;32m---> 56\u001b[0;31m     \u001b[0mplay_again\u001b[0m \u001b[0;34m=\u001b[0m \u001b[0minput\u001b[0m\u001b[0;34m(\u001b[0m\u001b[0;34m\"\\nDo you want to play again? (yes/no): \"\u001b[0m\u001b[0;34m)\u001b[0m\u001b[0;34m.\u001b[0m\u001b[0mlower\u001b[0m\u001b[0;34m(\u001b[0m\u001b[0;34m)\u001b[0m\u001b[0;34m\u001b[0m\u001b[0;34m\u001b[0m\u001b[0m\n\u001b[0m\u001b[1;32m     57\u001b[0m     \u001b[0;32mif\u001b[0m \u001b[0mplay_again\u001b[0m \u001b[0;34m==\u001b[0m \u001b[0;34m\"yes\"\u001b[0m\u001b[0;34m:\u001b[0m\u001b[0;34m\u001b[0m\u001b[0;34m\u001b[0m\u001b[0m\n\u001b[1;32m     58\u001b[0m         \u001b[0mhangman\u001b[0m\u001b[0;34m(\u001b[0m\u001b[0;34m)\u001b[0m\u001b[0;34m\u001b[0m\u001b[0;34m\u001b[0m\u001b[0m\n",
            "\u001b[0;32m/usr/local/lib/python3.10/dist-packages/ipykernel/kernelbase.py\u001b[0m in \u001b[0;36mraw_input\u001b[0;34m(self, prompt)\u001b[0m\n\u001b[1;32m    849\u001b[0m                 \u001b[0;34m\"raw_input was called, but this frontend does not support input requests.\"\u001b[0m\u001b[0;34m\u001b[0m\u001b[0;34m\u001b[0m\u001b[0m\n\u001b[1;32m    850\u001b[0m             )\n\u001b[0;32m--> 851\u001b[0;31m         return self._input_request(str(prompt),\n\u001b[0m\u001b[1;32m    852\u001b[0m             \u001b[0mself\u001b[0m\u001b[0;34m.\u001b[0m\u001b[0m_parent_ident\u001b[0m\u001b[0;34m,\u001b[0m\u001b[0;34m\u001b[0m\u001b[0;34m\u001b[0m\u001b[0m\n\u001b[1;32m    853\u001b[0m             \u001b[0mself\u001b[0m\u001b[0;34m.\u001b[0m\u001b[0m_parent_header\u001b[0m\u001b[0;34m,\u001b[0m\u001b[0;34m\u001b[0m\u001b[0;34m\u001b[0m\u001b[0m\n",
            "\u001b[0;32m/usr/local/lib/python3.10/dist-packages/ipykernel/kernelbase.py\u001b[0m in \u001b[0;36m_input_request\u001b[0;34m(self, prompt, ident, parent, password)\u001b[0m\n\u001b[1;32m    893\u001b[0m             \u001b[0;32mexcept\u001b[0m \u001b[0mKeyboardInterrupt\u001b[0m\u001b[0;34m:\u001b[0m\u001b[0;34m\u001b[0m\u001b[0;34m\u001b[0m\u001b[0m\n\u001b[1;32m    894\u001b[0m                 \u001b[0;31m# re-raise KeyboardInterrupt, to truncate traceback\u001b[0m\u001b[0;34m\u001b[0m\u001b[0;34m\u001b[0m\u001b[0m\n\u001b[0;32m--> 895\u001b[0;31m                 \u001b[0;32mraise\u001b[0m \u001b[0mKeyboardInterrupt\u001b[0m\u001b[0;34m(\u001b[0m\u001b[0;34m\"Interrupted by user\"\u001b[0m\u001b[0;34m)\u001b[0m \u001b[0;32mfrom\u001b[0m \u001b[0;32mNone\u001b[0m\u001b[0;34m\u001b[0m\u001b[0;34m\u001b[0m\u001b[0m\n\u001b[0m\u001b[1;32m    896\u001b[0m             \u001b[0;32mexcept\u001b[0m \u001b[0mException\u001b[0m \u001b[0;32mas\u001b[0m \u001b[0me\u001b[0m\u001b[0;34m:\u001b[0m\u001b[0;34m\u001b[0m\u001b[0;34m\u001b[0m\u001b[0m\n\u001b[1;32m    897\u001b[0m                 \u001b[0mself\u001b[0m\u001b[0;34m.\u001b[0m\u001b[0mlog\u001b[0m\u001b[0;34m.\u001b[0m\u001b[0mwarning\u001b[0m\u001b[0;34m(\u001b[0m\u001b[0;34m\"Invalid Message:\"\u001b[0m\u001b[0;34m,\u001b[0m \u001b[0mexc_info\u001b[0m\u001b[0;34m=\u001b[0m\u001b[0;32mTrue\u001b[0m\u001b[0;34m)\u001b[0m\u001b[0;34m\u001b[0m\u001b[0;34m\u001b[0m\u001b[0m\n",
            "\u001b[0;31mKeyboardInterrupt\u001b[0m: Interrupted by user"
          ]
        }
      ]
    },
    {
      "cell_type": "markdown",
      "source": [
        "Number Guessing Game"
      ],
      "metadata": {
        "id": "BFm4ZPwLsNHE"
      }
    },
    {
      "cell_type": "code",
      "source": [
        "import random\n",
        "\n",
        "def number_guessing_game():\n",
        "    target = random.randint(1, 100)\n",
        "    attempts = 0\n",
        "\n",
        "    print(\"I've selected a number between 1 and 100. Can you guess it?\")\n",
        "\n",
        "    while True:\n",
        "        guess = input(\"Enter your guess (between 1 and 100): \")\n",
        "\n",
        "        if not guess.isdigit():\n",
        "            print(\"Please enter a valid number.\")\n",
        "            continue\n",
        "\n",
        "        guess = int(guess)\n",
        "        attempts += 1\n",
        "\n",
        "        if guess < target:\n",
        "            print(\"The number is higher than your guess. Try again!\")\n",
        "        elif guess > target:\n",
        "            print(\"The number is lower than your guess. Try again!\")\n",
        "        else:\n",
        "            print(f\"Congratulations! You've guessed the number {target} correctly in {attempts} attempts.\")\n",
        "            break\n",
        "\n",
        "if __name__ == \"__main__\":\n",
        "    number_guessing_game()"
      ],
      "metadata": {
        "colab": {
          "base_uri": "https://localhost:8080/"
        },
        "id": "QHV6Fh2wsU4-",
        "outputId": "2f39a050-1a9d-422e-f00d-2dfda8fb9f74"
      },
      "execution_count": 4,
      "outputs": [
        {
          "output_type": "stream",
          "name": "stdout",
          "text": [
            "Welcome to the Number Guessing Game!\n",
            "I've selected a number between 1 and 100. Can you guess it?\n",
            "Enter your guess (between 1 and 100): 50\n",
            "The number is lower than your guess. Try again!\n",
            "Enter your guess (between 1 and 100): 2\n",
            "The number is higher than your guess. Try again!\n",
            "Enter your guess (between 1 and 100): 1'\n",
            "Please enter a valid number.\n",
            "Enter your guess (between 1 and 100): 10\n",
            "The number is higher than your guess. Try again!\n",
            "Enter your guess (between 1 and 100): 30\n",
            "The number is lower than your guess. Try again!\n",
            "Enter your guess (between 1 and 100): 28\n",
            "The number is lower than your guess. Try again!\n",
            "Enter your guess (between 1 and 100): 25\n",
            "The number is lower than your guess. Try again!\n",
            "Enter your guess (between 1 and 100): 20\n",
            "The number is lower than your guess. Try again!\n",
            "Enter your guess (between 1 and 100): 18\n",
            "The number is lower than your guess. Try again!\n",
            "Enter your guess (between 1 and 100): 15\n",
            "Congratulations! You've guessed the number 15 correctly in 9 attempts.\n"
          ]
        }
      ]
    }
  ]
}