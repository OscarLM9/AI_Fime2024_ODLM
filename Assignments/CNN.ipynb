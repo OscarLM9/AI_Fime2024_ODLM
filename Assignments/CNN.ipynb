{
  "nbformat": 4,
  "nbformat_minor": 0,
  "metadata": {
    "colab": {
      "provenance": []
    },
    "kernelspec": {
      "name": "python3",
      "display_name": "Python 3"
    },
    "language_info": {
      "name": "python"
    }
  },
  "cells": [
    {
      "cell_type": "markdown",
      "source": [
        "# **Convolutional Neural Network**"
      ],
      "metadata": {
        "id": "wxoMNHmH9SLe"
      }
    },
    {
      "cell_type": "markdown",
      "source": [
        "**1. Load libraries**"
      ],
      "metadata": {
        "id": "F5_uZRQIHjRn"
      }
    },
    {
      "cell_type": "code",
      "source": [
        "#Oscar Daniel Leal Maldonado\n",
        "import tensorflow as tf\n",
        "from tensorflow.keras import datasets, layers, models\n",
        "import matplotlib.pyplot as plt\n",
        "import numpy as np"
      ],
      "metadata": {
        "id": "34VQvjhE9Wbo"
      },
      "execution_count": 29,
      "outputs": []
    },
    {
      "cell_type": "markdown",
      "source": [
        "**2. Load Data**"
      ],
      "metadata": {
        "id": "SqM9yoxpHreB"
      }
    },
    {
      "cell_type": "code",
      "source": [
        "(train_images, train_labels), (test_images, test_labels) = datasets.mnist.load_data()\n",
        "\n",
        "# Normalize pixel values to be between 0 and 1\n",
        "train_images, test_images = train_images / 255.0, test_images / 255.0\n",
        "\n"
      ],
      "metadata": {
        "id": "_X3djM1G9yey",
        "colab": {
          "base_uri": "https://localhost:8080/"
        },
        "outputId": "fdfb3054-c654-477b-af45-fd6b7ab9c421"
      },
      "execution_count": 3,
      "outputs": [
        {
          "output_type": "stream",
          "name": "stdout",
          "text": [
            "Downloading data from https://storage.googleapis.com/tensorflow/tf-keras-datasets/mnist.npz\n",
            "11490434/11490434 [==============================] - 0s 0us/step\n"
          ]
        }
      ]
    },
    {
      "cell_type": "markdown",
      "source": [
        "**3. Preprocessing**"
      ],
      "metadata": {
        "id": "XJSeNy62HxFI"
      }
    },
    {
      "cell_type": "code",
      "source": [
        "class_names = ['Zero', 'One', 'Two', 'Three', 'Four',\n",
        "               'Five', 'Six', 'Seven', 'Eight', 'Nine']\n",
        "\n",
        "plt.figure(figsize=(10,10))\n",
        "for i in range(25):\n",
        "    plt.subplot(5,5,i+1)\n",
        "    plt.xticks([])\n",
        "    plt.yticks([])\n",
        "    plt.grid(False)\n",
        "    plt.imshow(train_images[i])\n",
        "    # The CIFAR labels happen to be arrays,\n",
        "\n",
        "plt.show()\n"
      ],
      "metadata": {
        "colab": {
          "base_uri": "https://localhost:8080/",
          "height": 807
        },
        "id": "8S5EuSZN90jy",
        "outputId": "7dd32eff-efb0-46d0-976d-74739dd2a645"
      },
      "execution_count": 23,
      "outputs": [
        {
          "output_type": "display_data",
          "data": {
            "text/plain": [
              "<Figure size 1000x1000 with 25 Axes>"
            ],
            "image/png": "[encoded data removed]"
          },
          "metadata": {}
        }
      ]
    },
    {
      "cell_type": "markdown",
      "source": [
        "**4. Model selection and training**"
      ],
      "metadata": {
        "id": "BZlIHxMsH4vX"
      }
    },
    {
      "cell_type": "code",
      "source": [
        "model = models.Sequential([\n",
        "    layers.Conv2D(32, (3, 3), activation='relu', input_shape=(28, 28, 1)),\n",
        "    layers.MaxPooling2D((2, 2)),\n",
        "    layers.Conv2D(64, (3, 3), activation='relu'),\n",
        "    layers.MaxPooling2D((2, 2)),\n",
        "    layers.Conv2D(64, (3, 3), activation='relu'),\n",
        "    layers.Flatten(),\n",
        "    layers.Dense(64, activation='relu'),\n",
        "    layers.Dense(10, activation='softmax')  # Activación softmax en la capa de salida\n",
        "])"
      ],
      "metadata": {
        "id": "JgxlzLFq93tx"
      },
      "execution_count": 5,
      "outputs": []
    },
    {
      "cell_type": "code",
      "source": [
        "model.compile(optimizer='adam',\n",
        "              loss=tf.keras.losses.SparseCategoricalCrossentropy(from_logits=True),\n",
        "              metrics=['accuracy'])\n",
        "\n",
        "\n",
        "history = model.fit(train_images, train_labels, epochs=10, validation_split=0.1)\n",
        "\n"
      ],
      "metadata": {
        "colab": {
          "base_uri": "https://localhost:8080/"
        },
        "id": "ACnFase2951k",
        "outputId": "6747e3fb-dc0d-4b5e-ff49-1f1e91096045"
      },
      "execution_count": 6,
      "outputs": [
        {
          "output_type": "stream",
          "name": "stdout",
          "text": [
            "Epoch 1/10\n"
          ]
        },
        {
          "output_type": "stream",
          "name": "stderr",
          "text": [
            "/usr/local/lib/python3.10/dist-packages/keras/src/backend.py:5727: UserWarning: \"`sparse_categorical_crossentropy` received `from_logits=True`, but the `output` argument was produced by a Softmax activation and thus does not represent logits. Was this intended?\n",
            "  output, from_logits = _get_logits(\n"
          ]
        },
        {
          "output_type": "stream",
          "name": "stdout",
          "text": [
            "1688/1688 [==============================] - 56s 32ms/step - loss: 0.1588 - accuracy: 0.9502 - val_loss: 0.0511 - val_accuracy: 0.9848\n",
            "Epoch 2/10\n",
            "1688/1688 [==============================] - 52s 31ms/step - loss: 0.0485 - accuracy: 0.9853 - val_loss: 0.0458 - val_accuracy: 0.9868\n",
            "Epoch 3/10\n",
            "1688/1688 [==============================] - 51s 30ms/step - loss: 0.0346 - accuracy: 0.9893 - val_loss: 0.0366 - val_accuracy: 0.9898\n",
            "Epoch 4/10\n",
            "1688/1688 [==============================] - 51s 30ms/step - loss: 0.0267 - accuracy: 0.9915 - val_loss: 0.0420 - val_accuracy: 0.9877\n",
            "Epoch 5/10\n",
            "1688/1688 [==============================] - 48s 29ms/step - loss: 0.0205 - accuracy: 0.9933 - val_loss: 0.0394 - val_accuracy: 0.9898\n",
            "Epoch 6/10\n",
            "1688/1688 [==============================] - 49s 29ms/step - loss: 0.0171 - accuracy: 0.9949 - val_loss: 0.0423 - val_accuracy: 0.9888\n",
            "Epoch 7/10\n",
            "1688/1688 [==============================] - 48s 28ms/step - loss: 0.0149 - accuracy: 0.9953 - val_loss: 0.0330 - val_accuracy: 0.9927\n",
            "Epoch 8/10\n",
            "1688/1688 [==============================] - 49s 29ms/step - loss: 0.0120 - accuracy: 0.9961 - val_loss: 0.0403 - val_accuracy: 0.9912\n",
            "Epoch 9/10\n",
            "1688/1688 [==============================] - 46s 27ms/step - loss: 0.0096 - accuracy: 0.9968 - val_loss: 0.0429 - val_accuracy: 0.9910\n",
            "Epoch 10/10\n",
            "1688/1688 [==============================] - 52s 31ms/step - loss: 0.0089 - accuracy: 0.9971 - val_loss: 0.0398 - val_accuracy: 0.9913\n"
          ]
        }
      ]
    },
    {
      "cell_type": "markdown",
      "source": [
        "**5. Model testing**"
      ],
      "metadata": {
        "id": "wH-j2oRUIIGt"
      }
    },
    {
      "cell_type": "code",
      "source": [
        "# Evaluar el modelo en el conjunto de prueba\n",
        "test_loss, test_acc = model.evaluate(test_images, test_labels)\n",
        "print(f\"Test accuracy: {test_acc}\")\n",
        "\n",
        "# Realizar 5 predicciones y mostrar los resultados\n",
        "predictions = model.predict(test_images[:6])\n",
        "predicted_labels = tf.argmax(predictions, axis=1)\n",
        "\n",
        "\n",
        "# Mostrar las predicciones y las etiquetas reales con el nombre de las clases\n",
        "for i in range(6):\n",
        "    predicted_class = class_names[predicted_labels[i]]\n",
        "    actual_class = class_names[test_labels[i]]\n",
        "    print(f\"Predicted: {predicted_class}, Actual: {actual_class}\")"
      ],
      "metadata": {
        "colab": {
          "base_uri": "https://localhost:8080/"
        },
        "id": "-PqfgvuV9652",
        "outputId": "fd74fbe8-f4f4-4b54-f05a-14e810329d8a"
      },
      "execution_count": 25,
      "outputs": [
        {
          "output_type": "stream",
          "name": "stdout",
          "text": [
            "313/313 [==============================] - 3s 10ms/step - loss: 0.0314 - accuracy: 0.9924\n",
            "Test accuracy: 0.9923999905586243\n",
            "1/1 [==============================] - 0s 44ms/step\n",
            "Predicted: Seven, Actual: Seven\n",
            "Predicted: Two, Actual: Two\n",
            "Predicted: One, Actual: One\n",
            "Predicted: Zero, Actual: Zero\n",
            "Predicted: Four, Actual: Four\n",
            "Predicted: One, Actual: One\n"
          ]
        }
      ]
    },
    {
      "cell_type": "code",
      "source": [
        "#Plot\n",
        "def plot_image(i, predictions_array, true_label, img):\n",
        "  true_label, img = true_label[i], img[i]\n",
        "  plt.grid(False)\n",
        "  plt.xticks([])\n",
        "  plt.yticks([])\n",
        "\n",
        "  plt.imshow(img, cmap=plt.cm.binary)\n",
        "\n",
        "  predicted_label = np.argmax(predictions_array)\n",
        "  if predicted_label == true_label:\n",
        "    color = 'blue'\n",
        "  else:\n",
        "    color = 'red'\n",
        "\n",
        "  plt.xlabel(\"{} {:2.0f}% ({})\".format(class_names[predicted_label],\n",
        "                                100*np.max(predictions_array),\n",
        "                                class_names[true_label]),\n",
        "                                color=color)\n",
        "\n",
        "def plot_value_array(i, predictions_array, true_label):\n",
        "  true_label = true_label[i]\n",
        "  plt.grid(False)\n",
        "  plt.xticks(range(10))\n",
        "  plt.yticks([])\n",
        "  thisplot = plt.bar(range(10), predictions_array, color=\"#777777\")\n",
        "  plt.ylim([0, 1])\n",
        "  predicted_label = np.argmax(predictions_array)\n",
        "\n",
        "  thisplot[predicted_label].set_color('red')\n",
        "  thisplot[true_label].set_color('blue')"
      ],
      "metadata": {
        "id": "TCQliAURJDie"
      },
      "execution_count": 26,
      "outputs": []
    },
    {
      "cell_type": "code",
      "source": [
        "num_rows = 1\n",
        "num_cols = 6\n",
        "num_images = num_rows*num_cols\n",
        "plt.figure(figsize=(2*2*num_cols, 2*num_rows))\n",
        "for i in range(num_images):\n",
        "  plt.subplot(num_rows, 2*num_cols, 2*i+1)\n",
        "  plot_image(i, predictions[i], test_labels, test_images)\n",
        "  plt.subplot(num_rows, 2*num_cols, 2*i+2)\n",
        "  plot_value_array(i, predictions[i], test_labels)\n",
        "plt.tight_layout()\n",
        "plt.show()"
      ],
      "metadata": {
        "colab": {
          "base_uri": "https://localhost:8080/",
          "height": 161
        },
        "id": "GfjkAsBtJMe_",
        "outputId": "7377d5ec-f152-46b5-ef26-7fcf04d4074b"
      },
      "execution_count": 30,
      "outputs": [
        {
          "output_type": "display_data",
          "data": {
            "text/plain": [
              "<Figure size 2400x200 with 12 Axes>"
            ],
            "image/png": "[encoded data removed]"
          },
          "metadata": {}
        }
      ]
    }
  ]
}