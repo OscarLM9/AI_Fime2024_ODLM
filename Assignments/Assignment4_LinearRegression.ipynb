{
  "nbformat": 4,
  "nbformat_minor": 0,
  "metadata": {
    "colab": {
      "provenance": []
    },
    "kernelspec": {
      "name": "python3",
      "display_name": "Python 3"
    },
    "language_info": {
      "name": "python"
    }
  },
  "cells": [
    {
      "cell_type": "markdown",
      "source": [
        "# Linear Regression\n"
      ],
      "metadata": {
        "id": "r5kQkVXxWyjl"
      }
    },
    {
      "cell_type": "markdown",
      "source": [
        "Oscar Daniel Leal Maldonado_2017986_Artificial Intelligence_N4"
      ],
      "metadata": {
        "id": "cB8EKEUTrCp1"
      }
    },
    {
      "cell_type": "markdown",
      "source": [
        "**Step 1: Import Libraries**"
      ],
      "metadata": {
        "id": "mgyoP7cPW9JA"
      }
    },
    {
      "cell_type": "code",
      "execution_count": 32,
      "metadata": {
        "id": "bseVXPpqWogC"
      },
      "outputs": [],
      "source": [
        "#Libraries\n",
        "import matplotlib.pyplot as plt\n",
        "import numpy as np\n",
        "import pandas as pd\n",
        "from sklearn.linear_model import LinearRegression\n",
        "from sklearn.model_selection import train_test_split\n"
      ]
    },
    {
      "cell_type": "markdown",
      "source": [
        "**Step 2: Import data**"
      ],
      "metadata": {
        "id": "aPB3gvqsFBgV"
      }
    },
    {
      "cell_type": "code",
      "source": [
        "np.random.seed(0)\n",
        "study_hours = np.random.rand(100, 1) * 10\n",
        "grades = 2 * study_hours + np.random.randn(100, 1) * 2"
      ],
      "metadata": {
        "id": "bUTlyj3gFIFe"
      },
      "execution_count": 33,
      "outputs": []
    },
    {
      "cell_type": "markdown",
      "source": [
        "**Step 3: Preprocessing**"
      ],
      "metadata": {
        "id": "K7qHBBuwjGE5"
      }
    },
    {
      "cell_type": "code",
      "source": [
        "train_data, test_data, train_labels, test_labels = train_test_split(study_hours, grades, test_size=0.2, random_state=42)\n",
        "\n"
      ],
      "metadata": {
        "id": "urlHZu2FjMR6"
      },
      "execution_count": 34,
      "outputs": []
    },
    {
      "cell_type": "code",
      "source": [
        "sklearn_model = LinearRegression()\n",
        "sklearn_model.fit(train_data, train_labels)\n",
        "sklearn_predictions = sklearn_model.predict(test_data)  # Predict grades using scikit-learn model"
      ],
      "metadata": {
        "id": "trssIwQ5FLxL"
      },
      "execution_count": 35,
      "outputs": []
    },
    {
      "cell_type": "markdown",
      "source": [
        "**Step 4: Model selection, setup and training**"
      ],
      "metadata": {
        "id": "_tOwhevejZKd"
      }
    },
    {
      "cell_type": "code",
      "source": [
        "tf_model = tf.keras.Sequential([\n",
        "    tf.keras.layers.Dense(1, input_shape=[1])  # Single neuron for linear regression\n",
        "])"
      ],
      "metadata": {
        "id": "NBitTL6_jk7a"
      },
      "execution_count": 36,
      "outputs": []
    },
    {
      "cell_type": "code",
      "source": [
        "tf_model.compile(optimizer='sgd', loss='mean_squared_error')\n",
        "tf_predictions = tf_model.predict(test_data)\n",
        "# Specify the number of epochs\n",
        "\n",
        "history = tf_model.fit(train_data, train_labels, epochs=10, verbose=0)"
      ],
      "metadata": {
        "id": "NH8sR7nbGznj",
        "colab": {
          "base_uri": "https://localhost:8080/"
        },
        "outputId": "cf972f3c-1553-4023-c35d-b64afdd3a1ff"
      },
      "execution_count": 37,
      "outputs": [
        {
          "output_type": "stream",
          "name": "stdout",
          "text": [
            "1/1 [==============================] - 0s 73ms/step\n"
          ]
        }
      ]
    },
    {
      "cell_type": "markdown",
      "source": [
        "**Step 5: Test the model**"
      ],
      "metadata": {
        "id": "t1mvrH8GjlNd"
      }
    },
    {
      "cell_type": "code",
      "source": [
        "tf_predictions = tf_model.predict(test_data)\n",
        "mse = np.mean((test_labels - tf_predictions) ** 2)\n",
        "print(\"Error:\", mse)\n"
      ],
      "metadata": {
        "colab": {
          "base_uri": "https://localhost:8080/"
        },
        "id": "nFIFS9rXsnDa",
        "outputId": "e793efe1-0a0f-44c3-d142-31da0c19a6b8"
      },
      "execution_count": 38,
      "outputs": [
        {
          "output_type": "stream",
          "name": "stdout",
          "text": [
            "1/1 [==============================] - 0s 21ms/step\n",
            "Error: 3.6687759058656324\n"
          ]
        }
      ]
    },
    {
      "cell_type": "code",
      "source": [
        "plt.figure(figsize=(8, 6))\n",
        "plt.scatter(test_data, test_labels, color='red', label='Actual data')\n",
        "plt.plot(test_data, sklearn_predictions, color='green', linewidth=2, label='Predicted data')\n",
        "plt.title('Linear Regression Model')\n",
        "plt.xlabel('Study Hours')\n",
        "plt.ylabel('Grades')\n",
        "plt.legend()\n",
        "plt.show()"
      ],
      "metadata": {
        "colab": {
          "base_uri": "https://localhost:8080/",
          "height": 564
        },
        "id": "LWRyD0X0U-ln",
        "outputId": "8b9b3d7d-fec5-4103-895a-ea3881eb606b"
      },
      "execution_count": 39,
      "outputs": [
        {
          "output_type": "display_data",
          "data": {
            "text/plain": [
              "<Figure size 800x600 with 1 Axes>"
            ],
            "image/png": "[encoded data removed]"
          },
          "metadata": {}
        }
      ]
    }
  ]
}