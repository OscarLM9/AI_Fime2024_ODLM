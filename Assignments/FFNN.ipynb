{
  "cells": [
    {
      "cell_type": "markdown",
      "metadata": {
        "id": "ctt8Zq1a1t6g"
      },
      "source": [
        "# **Feedforward Neural Network (FNN)**"
      ]
    },
    {
      "cell_type": "markdown",
      "metadata": {
        "id": "5ufA31ZHTP2b"
      },
      "source": [
        "**1. Load libraries**"
      ]
    },
    {
      "cell_type": "code",
      "execution_count": null,
      "metadata": {
        "colab": {
          "background_save": true
        },
        "id": "qPOLNGjXTBfw"
      },
      "outputs": [],
      "source": [
        "#Oscar Daniel Leal Maldonado 2017986\n",
        "# TensorFlow y tf.keras\n",
        "import tensorflow as tf\n",
        "from tensorflow import keras\n",
        "\n",
        "# Librerias de ayuda\n",
        "import numpy as np\n",
        "import matplotlib.pyplot as plt\n"
      ]
    },
    {
      "cell_type": "markdown",
      "metadata": {
        "id": "-HTFv7D9UHSG"
      },
      "source": [
        "**2. Load Data**"
      ]
    },
    {
      "cell_type": "code",
      "execution_count": null,
      "metadata": {
        "colab": {
          "base_uri": "https://localhost:8080/"
        },
        "id": "aph2PDtGUFhB",
        "outputId": "d675b67f-5d00-4c6f-f7c2-0d6121ea9f7e"
      },
      "outputs": [
        {
          "name": "stdout",
          "output_type": "stream",
          "text": [
            "Downloading data from https://storage.googleapis.com/tensorflow/tf-keras-datasets/mnist.npz\n",
            "11490434/11490434 [==============================] - 0s 0us/step\n"
          ]
        }
      ],
      "source": [
        "number_mnist = tf.keras.datasets.mnist\n",
        "\n",
        "(train_images, train_labels), (test_images, test_labels) = number_mnist.load_data()\n",
        "\n"
      ]
    },
    {
      "cell_type": "markdown",
      "metadata": {
        "id": "SW090wuy459O"
      },
      "source": [
        "**3.Data Preprocessing**"
      ]
    },
    {
      "cell_type": "code",
      "execution_count": null,
      "metadata": {
        "id": "4Y6PIodp4_hZ"
      },
      "outputs": [],
      "source": [
        "class_names = ['Zero', 'One', 'Two', 'Three', 'Four', 'Five',\n",
        "               'Six', 'Seven', 'Eight', 'Nine']\n",
        "\n",
        "train_images = train_images / 255.0\n",
        "\n",
        "test_images = test_images / 255.0\n"
      ]
    },
    {
      "cell_type": "markdown",
      "metadata": {
        "id": "U8rbRRt84_-_"
      },
      "source": [
        "**4. Model selection and training.**"
      ]
    },
    {
      "cell_type": "code",
      "execution_count": null,
      "metadata": {
        "colab": {
          "base_uri": "https://localhost:8080/"
        },
        "id": "LQ4idavV5DfW",
        "outputId": "fb8452b9-b8f6-46ef-d037-1c1792b69d97"
      },
      "outputs": [
        {
          "name": "stdout",
          "output_type": "stream",
          "text": [
            "Epoch 1/8\n",
            "1688/1688 [==============================] - 8s 4ms/step - loss: 0.2752 - accuracy: 0.9214 - val_loss: 0.1259 - val_accuracy: 0.9647\n",
            "Epoch 2/8\n",
            "1688/1688 [==============================] - 5s 3ms/step - loss: 0.1220 - accuracy: 0.9637 - val_loss: 0.0991 - val_accuracy: 0.9715\n",
            "Epoch 3/8\n",
            "1688/1688 [==============================] - 7s 4ms/step - loss: 0.0830 - accuracy: 0.9749 - val_loss: 0.0787 - val_accuracy: 0.9783\n",
            "Epoch 4/8\n",
            "1688/1688 [==============================] - 5s 3ms/step - loss: 0.0608 - accuracy: 0.9810 - val_loss: 0.0817 - val_accuracy: 0.9742\n",
            "Epoch 5/8\n",
            "1688/1688 [==============================] - 6s 4ms/step - loss: 0.0470 - accuracy: 0.9856 - val_loss: 0.0766 - val_accuracy: 0.9785\n",
            "Epoch 6/8\n",
            "1688/1688 [==============================] - 5s 3ms/step - loss: 0.0371 - accuracy: 0.9887 - val_loss: 0.0701 - val_accuracy: 0.9793\n",
            "Epoch 7/8\n",
            "1688/1688 [==============================] - 6s 3ms/step - loss: 0.0285 - accuracy: 0.9911 - val_loss: 0.0776 - val_accuracy: 0.9783\n",
            "Epoch 8/8\n",
            "1688/1688 [==============================] - 6s 4ms/step - loss: 0.0244 - accuracy: 0.9925 - val_loss: 0.0743 - val_accuracy: 0.9805\n"
          ]
        }
      ],
      "source": [
        "model = tf.keras.Sequential([\n",
        "    tf.keras.layers.Flatten(input_shape=(28, 28)),\n",
        "    tf.keras.layers.Dense(128, activation='relu'),\n",
        "   keras.layers.Dense(10, activation='softmax')\n",
        "])\n",
        "\n",
        "\n",
        "# Compile the model\n",
        "model.compile(optimizer='adam',\n",
        "              loss='sparse_categorical_crossentropy',\n",
        "              metrics=['accuracy'])\n",
        "\n",
        "# Train the model\n",
        "history = model.fit(train_images, train_labels, epochs=8, batch_size=32, validation_split=0.1)"
      ]
    },
    {
      "cell_type": "code",
      "execution_count": null,
      "metadata": {
        "colab": {
          "base_uri": "https://localhost:8080/"
        },
        "id": "7U0k97E-6cGl",
        "outputId": "63fc7aec-fc04-434e-b15e-accd3aae618d"
      },
      "outputs": [
        {
          "name": "stdout",
          "output_type": "stream",
          "text": [
            "313/313 - 1s - loss: 0.0729 - accuracy: 0.9784 - 675ms/epoch - 2ms/step\n",
            "\n",
            "Test accuracy: 0.9783999919891357\n"
          ]
        }
      ],
      "source": [
        "test_loss, test_acc = model.evaluate(test_images,  test_labels, verbose=2)\n",
        "\n",
        "print('\\nTest accuracy:', test_acc)"
      ]
    },
    {
      "cell_type": "markdown",
      "metadata": {
        "id": "d5Xd5PL35Fi1"
      },
      "source": [
        "**5. Model testing.**"
      ]
    },
    {
      "cell_type": "code",
      "execution_count": null,
      "metadata": {
        "colab": {
          "base_uri": "https://localhost:8080/"
        },
        "id": "weKPAGzR5Jae",
        "outputId": "87d3976d-0480-4fdc-eef5-aca09b840d1c"
      },
      "outputs": [
        {
          "name": "stdout",
          "output_type": "stream",
          "text": [
            "1/1 [==============================] - 0s 368ms/step\n",
            "Predicted: 7, Actual: 7\n",
            "Predicted: 2, Actual: 2\n",
            "Predicted: 1, Actual: 1\n",
            "Predicted: 0, Actual: 0\n",
            "Predicted: 4, Actual: 4\n",
            "Predicted: 1, Actual: 1\n"
          ]
        }
      ],
      "source": [
        "\n",
        "num_predictions = 6\n",
        "predictions = model.predict(test_images[:num_predictions])\n",
        "predicted_labels = np.argmax(predictions, axis=1)\n",
        "\n",
        "# Display predictions and actual labels\n",
        "for i in range(num_predictions):\n",
        "    print(f\"Predicted: {predicted_labels[i]}, Actual: {test_labels[i]}\")\n"
      ]
    },
    {
      "cell_type": "markdown",
      "metadata": {
        "id": "SeljBJ1a6pni"
      },
      "source": [
        "**Plot**"
      ]
    },
    {
      "cell_type": "code",
      "execution_count": null,
      "metadata": {
        "id": "yTOa4mye6ruO"
      },
      "outputs": [],
      "source": [
        "def plot_image(i, predictions_array, true_label, img):\n",
        "  true_label, img = true_label[i], img[i]\n",
        "  plt.grid(False)\n",
        "  plt.xticks([])\n",
        "  plt.yticks([])\n",
        "\n",
        "  plt.imshow(img, cmap=plt.cm.binary)\n",
        "\n",
        "  predicted_label = np.argmax(predictions_array)\n",
        "  if predicted_label == true_label:\n",
        "    color = 'blue'\n",
        "  else:\n",
        "    color = 'red'\n",
        "\n",
        "  plt.xlabel(\"{} {:2.0f}% ({})\".format(class_names[predicted_label],\n",
        "                                100*np.max(predictions_array),\n",
        "                                class_names[true_label]),\n",
        "                                color=color)\n",
        "\n",
        "def plot_value_array(i, predictions_array, true_label):\n",
        "  true_label = true_label[i]\n",
        "  plt.grid(False)\n",
        "  plt.xticks(range(10))\n",
        "  plt.yticks([])\n",
        "  thisplot = plt.bar(range(10), predictions_array, color=\"#777777\")\n",
        "  plt.ylim([0, 1])\n",
        "  predicted_label = np.argmax(predictions_array)\n",
        "\n",
        "  thisplot[predicted_label].set_color('red')\n",
        "  thisplot[true_label].set_color('blue')"
      ]
    },
    {
      "cell_type": "code",
      "execution_count": null,
      "metadata": {
        "colab": {
          "base_uri": "https://localhost:8080/",
          "height": 161
        },
        "id": "9HbjoQED8ngg",
        "outputId": "a37027cb-c3b6-45b5-c37e-aac15950d1dc"
      },
      "outputs": [
        {
          "data": {
            "image/png": "[encoded data removed]",
            "text/plain": [
              "<Figure size 2400x200 with 12 Axes>"
            ]
          },
          "metadata": {},
          "output_type": "display_data"
        }
      ],
      "source": [
        "num_rows = 1\n",
        "num_cols = 6\n",
        "num_images = num_rows*num_cols\n",
        "plt.figure(figsize=(2*2*num_cols, 2*num_rows))\n",
        "for i in range(num_images):\n",
        "  plt.subplot(num_rows, 2*num_cols, 2*i+1)\n",
        "  plot_image(i, predictions[i], test_labels, test_images)\n",
        "  plt.subplot(num_rows, 2*num_cols, 2*i+2)\n",
        "  plot_value_array(i, predictions[i], test_labels)\n",
        "plt.tight_layout()\n",
        "plt.show()"
      ]
    }
  ],
  "metadata": {
    "colab": {
      "provenance": []
    },
    "kernelspec": {
      "display_name": "Python 3",
      "name": "python3"
    },
    "language_info": {
      "name": "python"
    }
  },
  "nbformat": 4,
  "nbformat_minor": 0
}